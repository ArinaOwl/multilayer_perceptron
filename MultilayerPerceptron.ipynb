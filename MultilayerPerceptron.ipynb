{
  "nbformat": 4,
  "nbformat_minor": 0,
  "metadata": {
    "kernelspec": {
      "display_name": "Python 3",
      "language": "python",
      "name": "python3"
    },
    "language_info": {
      "codemirror_mode": {
        "name": "ipython",
        "version": 3
      },
      "file_extension": ".py",
      "mimetype": "text/x-python",
      "name": "python",
      "nbconvert_exporter": "python",
      "pygments_lexer": "ipython3",
      "version": "3.7.4"
    },
    "colab": {
      "name": "MultilayerPerceptron.ipynb",
      "provenance": [],
      "include_colab_link": true
    }
  },
  "cells": [
    {
      "cell_type": "markdown",
      "metadata": {
        "id": "view-in-github",
        "colab_type": "text"
      },
      "source": [
        "<a href=\"https://colab.research.google.com/github/ArinaOwl/multilayer_perceptron/blob/main/MultilayerPerceptron.ipynb\" target=\"_parent\"><img src=\"https://colab.research.google.com/assets/colab-badge.svg\" alt=\"Open In Colab\"/></a>"
      ]
    },
    {
      "cell_type": "markdown",
      "metadata": {
        "id": "W_Is92mxhudu"
      },
      "source": [
        "# Многослойный персептрон"
      ]
    },
    {
      "cell_type": "code",
      "metadata": {
        "id": "YZeHc2O_hudz"
      },
      "source": [
        "import torch\n",
        "import torch.nn as nn\n",
        "import torch.nn.functional as F\n",
        "from torch.utils.data import Dataset, DataLoader\n",
        "\n",
        "import pandas as pd\n",
        "import numpy as np\n",
        "\n",
        "from matplotlib import pyplot as plt\n",
        "from argparse import Namespace\n",
        "from tqdm import tqdm, tqdm_notebook"
      ],
      "execution_count": null,
      "outputs": []
    },
    {
      "cell_type": "markdown",
      "metadata": {
        "id": "RAZwM80Qhud2"
      },
      "source": [
        "## Класс многослойного персептрона"
      ]
    },
    {
      "cell_type": "code",
      "metadata": {
        "id": "FCNgYdtghud2"
      },
      "source": [
        "class MultilayerPerceptron(nn.Module): # наследует nn.Module\n",
        "    def __init__(self, input_dim, output_dim, hidden_dim = 100, num_hidden = 1,\n",
        "                 activation = 'ReLU', apply_dropout = False, p = 0.5, apply_batchnorm = False):  # конструктор класса\n",
        "        \"\"\"\n",
        "        Аргументы:\n",
        "            input_dim (int): размер входных векторов\n",
        "            hidden_dim (int): размер скрытых слоев\n",
        "            output_dim (int): размер выходного вектора\n",
        "            num_dim (int): количество скрытых слоев\n",
        "            activation (str): функция активации ('ReLU', 'sigmoid', 'tanh')\n",
        "            apply_dropout (bool): флаг для метода прореживания\n",
        "            p (int): вероятность отброса для метода прореживания\n",
        "            apply_batchnorm (bool): флаг для нормализации батчей\n",
        "        \"\"\"\n",
        "        super(MultilayerPerceptron, self).__init__() # инициализация родительского класса\n",
        "        activation_choice = {'ReLU': F.relu,\n",
        "                             'sigmoid': F.sigmoid,\n",
        "                             'tanh': F.tanh}\n",
        "        self.activation_func = activation_choice[activation]\n",
        "        self.apply_dropout = apply_dropout\n",
        "        self.apply_batchnorm = apply_batchnorm\n",
        "        self.p = p\n",
        "        self.fc_head = nn.Linear(input_dim, hidden_dim) # класс, рассчитывающий Wx + b\n",
        "        self.fc_blocks = [nn.Linear(hidden_dim, hidden_dim) for i in range(num_hidden - 1)]\n",
        "        if self.apply_batchnorm:\n",
        "            self.fc_blocks_bn = [nn.BatchNorm1d(hidden_dim) for i in range(num_hidden - 1)]\n",
        "        self.fc_tail = nn.Linear(hidden_dim, output_dim)\n",
        "        \n",
        "    def forward(self, x_in, apply_softmax = False): #прямой проход классификатора\n",
        "        \"\"\"\n",
        "        Аргументы:\n",
        "            x_in (torch.Tensor): входной тензор данных\n",
        "            apply_softmax (bool): флаг для многомерной логистической функции активации\n",
        "        \"\"\"\n",
        "        intermediate = self.activation_func(self.fc_head(x_in))\n",
        "        for i in range(len(self.fc_blocks)):\n",
        "            if self.apply_dropout:\n",
        "                intermediate = F.dropout(intermediate, p = self.p, training = self.training)\n",
        "            intermediate = self.activation_func(self.fc_blocks[i](intermediate))\n",
        "            if self.apply_batchnorm:\n",
        "                intermediate = self.fc_blocks_bn[i](intermediate)\n",
        "        if self.apply_dropout:\n",
        "            intermediate = F.dropout(intermediate, p = self.p, training = self.training)\n",
        "        output = self.fc_tail(intermediate)\n",
        "\n",
        "        if apply_softmax:\n",
        "            output = F.softmax(output, dim = 1)\n",
        "        return output"
      ],
      "execution_count": null,
      "outputs": []
    },
    {
      "cell_type": "markdown",
      "metadata": {
        "id": "E6sGXWtRhud3"
      },
      "source": [
        "## Класс набора данных"
      ]
    },
    {
      "cell_type": "code",
      "metadata": {
        "id": "jLW0nyKJhud4"
      },
      "source": [
        "class SomeDataset(Dataset):\n",
        "    def __init__(self, some_df, feature_cols, target_col, \n",
        "                 train_size = 0.07, test_size = 0.9):\n",
        "        \"\"\"\n",
        "        Аргументы:\n",
        "            some_df (pandas.DataFrame): датафрейм с предварительно обработанными данными\n",
        "            feature_cols (list(str)): названия колонок-признаков\n",
        "            target_col (str): название целевой колонки\n",
        "            train_size (float): доля данных на обучающую выборку\n",
        "            test_size (float): доля данных на контрольную выборку\n",
        "        \"\"\"\n",
        "\n",
        "        self.some_df = some_df\n",
        "        \n",
        "        self.feature_cols = feature_cols\n",
        "        self.target_col = target_col\n",
        "\n",
        "        self.test_df = self.some_df.sample(frac = test_size)\n",
        "        self.test_size = len(self.test_df)\n",
        "\n",
        "        self.train_df = self.some_df.drop(self.test_df.index).sample(frac = train_size / (1 - test_size))\n",
        "        self.train_size = len(self.train_df)\n",
        "        \n",
        "        self.val_df = self.some_df.drop(self.train_df.index).drop(self.test_df.index)\n",
        "        self.validation_size = len(self.val_df)\n",
        "\n",
        "        self.mean = self.train_df[feature_cols].mean(axis = 0)\n",
        "        self.std = self.train_df[feature_cols].std(axis = 0)\n",
        "\n",
        "        self.train_df[feature_cols] = (self.train_df[feature_cols] - self.mean)/self.std\n",
        "        self.val_df[feature_cols] = (self.val_df[feature_cols] - self.mean)/self.std\n",
        "        self.test_df[feature_cols] = (self.test_df[feature_cols] - self.mean)/self.std\n",
        "        \n",
        "        self._lookup_dict = {'train': (self.train_df, self.train_size),\n",
        "                             'val': (self.val_df, self.validation_size),\n",
        "                             'test': (self.test_df, self.test_size)}\n",
        "\n",
        "        self.set_split('train')\n",
        "\n",
        "    def set_split(self, split=\"train\"):\n",
        "        \"\"\" Выбор фрагментов набора данных по столбцу из объекта dataframe\n",
        "\n",
        "        Аргуметы:\n",
        "            split (str): \"train\" (обучающий), \"val\" (проверочный) или \"test\" (контрольный)\n",
        "        \"\"\"\n",
        "        self._target_split = split\n",
        "        self._target_df, self._target_size = self._lookup_dict[split]\n",
        "\n",
        "    def __len__(self):\n",
        "        return self._target_size\n",
        "\n",
        "    def __getitem__(self, index):\n",
        "        \"\"\" Обращение к элементам текущего фрагмента по индексу\n",
        "\n",
        "        Аргументы:\n",
        "            index (int): индекс точки данных \n",
        "        Возвращает:\n",
        "            словарь, содержащий точки данных\n",
        "        \"\"\"\n",
        "        row = self._target_df.iloc[index]\n",
        "\n",
        "        features = torch.FloatTensor(row[self.feature_cols])\n",
        "        label = row[self.target_col]\n",
        "\n",
        "        return features, label\n",
        "\n",
        "    def get_num_batches(self, batch_size):\n",
        "        \"\"\"\n",
        "        Аргументы:\n",
        "            batch_size (int): размер пакета\n",
        "        Возвращает:\n",
        "            количество пакетов в наборе данных\n",
        "        \"\"\"\n",
        "        return len(self) // batch_size\n",
        "    \n",
        "    def get_num_targets(self):\n",
        "        \"\"\"\n",
        "            Количество различных значений целевой переменной\n",
        "        \"\"\"\n",
        "        return self.some_df[self.target_col].nunique()"
      ],
      "execution_count": null,
      "outputs": []
    },
    {
      "cell_type": "markdown",
      "metadata": {
        "id": "eQB5mD9bhud5"
      },
      "source": [
        "## Функции, используемые при обучении"
      ]
    },
    {
      "cell_type": "code",
      "metadata": {
        "id": "RzIvU8-yhud6"
      },
      "source": [
        "def fit_epoch(model, train_loader, criterion, optimizer):\n",
        "    \"\"\" Эпоха обучения\n",
        "    Аргументы:\n",
        "        model (MultilayerPerceptron): модель\n",
        "        train_loader (DataLoader): загрузчик данных\n",
        "        criterion: функция потерь\n",
        "        optimizer: оптимизатор\n",
        "    Возвращает:\n",
        "        кортеж из среднего значения функции потерь и оценки точности\n",
        "    \"\"\"\n",
        "    running_loss = 0.0\n",
        "    running_corrects = 0\n",
        "    processed_data = 0\n",
        "\n",
        "    # процедура обучения\n",
        "    for features, labels in train_loader:\n",
        "        # получение данных\n",
        "        features = features.to(args.device)\n",
        "        labels = labels.to(args.device)\n",
        "\n",
        "        # обнуление градиентов\n",
        "        optimizer.zero_grad()\n",
        "\n",
        "        # вычисление прямого прохода модели\n",
        "        outputs = model(features)\n",
        "\n",
        "        # вычисление функции потерь\n",
        "        loss = criterion(outputs, labels)\n",
        "\n",
        "        # вычисление градиентов на основании функции потерь\n",
        "        loss.backward()\n",
        "\n",
        "        # обновление значений параметров по градиентам\n",
        "        optimizer.step()\n",
        "\n",
        "        preds = torch.argmax(outputs, 1)\n",
        "        running_loss += loss.item() * features.size(0)\n",
        "        running_corrects += torch.sum(preds == labels.data)\n",
        "        processed_data += features.size(0)\n",
        "              \n",
        "    train_loss = running_loss / processed_data\n",
        "    train_acc = running_corrects.cpu().numpy() / processed_data\n",
        "    return train_loss, train_acc"
      ],
      "execution_count": null,
      "outputs": []
    },
    {
      "cell_type": "code",
      "metadata": {
        "id": "6KpJ1tYehud7"
      },
      "source": [
        "def eval_epoch(model, val_loader, criterion):\n",
        "    \"\"\" Эпоха оценки\n",
        "    Аргументы:\n",
        "        model (MultilayerPerceptron): модель\n",
        "        val_loader (DataLoader): загрузчик данных\n",
        "        criterion: функция потерь\n",
        "    Возвращает:\n",
        "        кортеж из среднего значения функции потерь и оценки точности\n",
        "    \"\"\"\n",
        "    # перевод модели в состояние оценки  \n",
        "    model.eval()\n",
        "\n",
        "    running_loss = 0.0\n",
        "    running_corrects = 0\n",
        "    processed_size = 0\n",
        "\n",
        "    # процедура оценки\n",
        "    for features, labels in val_loader:\n",
        "        # получение входных значений      \n",
        "        features = features.to(args.device)\n",
        "        labels = labels.to(args.device)\n",
        "        \n",
        "        with torch.set_grad_enabled(False):\n",
        "            # вычисление прямого прохода модели\n",
        "            outputs = model(features)\n",
        "\n",
        "            # вычисление функции потерь\n",
        "            loss = criterion(outputs, labels)\n",
        "\n",
        "        preds = torch.argmax(outputs, 1)\n",
        "        running_loss += loss.item() * features.size(0)\n",
        "        running_corrects += torch.sum(preds == labels.data)\n",
        "        processed_size += features.size(0)\n",
        "        \n",
        "    val_loss = running_loss / processed_size\n",
        "    val_acc = running_corrects.double() / processed_size\n",
        "    return val_loss, val_acc"
      ],
      "execution_count": null,
      "outputs": []
    },
    {
      "cell_type": "code",
      "metadata": {
        "id": "ROxPqaJQhud8"
      },
      "source": [
        "def train(dataset, model, epochs, batch_size):\n",
        "    \"\"\" Обучение сети\n",
        "    Аргументы:\n",
        "        dataset (SomeDataset): набор данных\n",
        "        model (MultilayerPerceptron): модель\n",
        "        epochs (int): количество эпох обучения\n",
        "        batch_size (int): размер мини-пакетов\n",
        "    Возвращает:\n",
        "        историю обучения в виде списка, \n",
        "        содержащего данные потерь и точностей для каждой эпохи\n",
        "    \n",
        "    \"\"\"  \n",
        "    train_loader = DataLoader(dataset, batch_size=batch_size, shuffle=True)\n",
        "    val_loader = DataLoader(dataset, batch_size=batch_size, shuffle=False)\n",
        "    \n",
        "    history = []\n",
        "    log_template = \"\\nEpoch {ep:03d} train_loss: {t_loss:0.4f} \\\n",
        "    val_loss {v_loss:0.4f} train_acc {t_acc:0.4f} val_acc {v_acc:0.4f}\"\n",
        "\n",
        "    with tqdm(desc=\"epoch\", total=epochs) as pbar_outer:\n",
        "        opt = torch.optim.Adam(model.parameters())\n",
        "        criterion = nn.CrossEntropyLoss()\n",
        "\n",
        "        for epoch in range(epochs):\n",
        "            dataset.set_split('train')            \n",
        "            train_loss, train_acc = fit_epoch(model, train_loader, criterion, opt)\n",
        "\n",
        "            dataset.set_split('val')            \n",
        "            val_loss, val_acc = eval_epoch(model, val_loader, criterion)\n",
        "            \n",
        "            history.append((train_loss, train_acc, val_loss, val_acc))\n",
        "            pbar_outer.update(1)\n",
        "            tqdm.write(log_template.format(ep=epoch+1, t_loss=train_loss,\\\n",
        "                                           v_loss=val_loss, t_acc=train_acc, v_acc=val_acc))\n",
        "            \n",
        "    return history"
      ],
      "execution_count": null,
      "outputs": []
    },
    {
      "cell_type": "markdown",
      "metadata": {
        "id": "t5doq3Owhud8"
      },
      "source": [
        "## Дополнительные функции используемые при классификации "
      ]
    },
    {
      "cell_type": "code",
      "metadata": {
        "id": "N2zP-FKNhud8"
      },
      "source": [
        "def set_seed_everywhere(seed, cuda):\n",
        "    \"\"\"Фиксирование seed\n",
        "    Аргументы:\n",
        "        seed (int)\n",
        "        cuda (bool): флаг для использования GPU\n",
        "    \"\"\"\n",
        "    np.random.seed(seed)\n",
        "    torch.manual_seed(seed)\n",
        "    if cuda:\n",
        "        torch.cuda.manual_seed_all(seed)"
      ],
      "execution_count": null,
      "outputs": []
    },
    {
      "cell_type": "code",
      "metadata": {
        "id": "GtxvcI_whud9"
      },
      "source": [
        "def create_plot_loss_or_acc(train, val, label):\n",
        "    \"\"\"Создание графиков\n",
        "    Аргументы:\n",
        "        train (list): список показателей на тренировочной выборке\n",
        "        val (list): список показателей на проверочных данных\n",
        "        label (str): метка (\"loss\"/\"acc\")\n",
        "    \"\"\"\n",
        "    plt.figure(figsize=(15, 9))\n",
        "    plt.plot(train, label=\"train\")\n",
        "    plt.plot(val, label=\"val\")\n",
        "    plt.legend(loc='best')\n",
        "    plt.xlabel(\"epochs\")\n",
        "    plt.ylabel(label)\n",
        "    plt.show()"
      ],
      "execution_count": null,
      "outputs": []
    },
    {
      "cell_type": "code",
      "metadata": {
        "id": "evtiTe9Jhud-"
      },
      "source": [
        "def predict(model, test_loader):\n",
        "    \"\"\"Предсказание модели\n",
        "    Аргументы:\n",
        "        model (MultilayerPerceptron): модель\n",
        "        test_loader (DataLoader): загрузчик данных\n",
        "    Возвращает:\n",
        "        список предсказаний модели\n",
        "    \"\"\"\n",
        "    with torch.no_grad():\n",
        "        logits = []\n",
        "    \n",
        "        for features, label in test_loader:\n",
        "            features = features.to(args.device)\n",
        "            model.eval()\n",
        "            outputs = model(features, apply_softmax = True).cpu()\n",
        "            logits.append(outputs)\n",
        "            \n",
        "    return torch.cat(logits).numpy()"
      ],
      "execution_count": null,
      "outputs": []
    },
    {
      "cell_type": "markdown",
      "metadata": {
        "id": "YeQ6sJnAhud-"
      },
      "source": [
        "## Подготовка к обучению "
      ]
    },
    {
      "cell_type": "code",
      "metadata": {
        "id": "RPDRJB_ohud_",
        "outputId": "13154969-4fd0-4cd8-9a11-deba52ea65b6"
      },
      "source": [
        "args = Namespace(\n",
        "    datafilename = 'Skyserver_12_30_2019 4_49_58 PM.csv',\n",
        "    feature_cols = ['u', 'g', 'r', 'i', 'z', 'redshift'],\n",
        "    target_col = 'classid',\n",
        "    # Гиперпараметры модели\n",
        "    hidden_dim = 125,\n",
        "    num_hidden = 2,\n",
        "    activation = 'ReLU',\n",
        "    apply_dropout = True,\n",
        "    p = 0.5,\n",
        "    apply_batchnorm = True,\n",
        "    # Гиперпараметры тренировки\n",
        "    seed=42,\n",
        "    num_epochs=30,\n",
        "    learning_rate=0.001,\n",
        "    batch_size=200,\n",
        "    # Параметры вычислений\n",
        "    cuda=False\n",
        ")\n",
        "    \n",
        "# Проверка на возможность использования GPU\n",
        "if not torch.cuda.is_available():\n",
        "    args.cuda = False\n",
        "args.device = torch.device(\"cuda\" if args.cuda else \"cpu\")    \n",
        "print(\"Using CUDA: {}\".format(args.cuda))\n",
        "\n",
        "set_seed_everywhere(args.seed, args.cuda)"
      ],
      "execution_count": null,
      "outputs": [
        {
          "name": "stdout",
          "output_type": "stream",
          "text": [
            "Using CUDA: False\n"
          ]
        }
      ]
    },
    {
      "cell_type": "markdown",
      "metadata": {
        "id": "jNmNKaX0hueA"
      },
      "source": [
        "## Цикл обучения перцептрона"
      ]
    },
    {
      "cell_type": "code",
      "metadata": {
        "scrolled": true,
        "id": "S7OsOUwOhueA",
        "outputId": "7a87b753-2c0e-4c6b-8797-8e88dad7da60"
      },
      "source": [
        "data = pd.read_csv(args.datafilename)\n",
        "data['classid'] = data['class'].map({'STAR': 0, 'GALAXY': 1, 'QSO': 2}) \n",
        "\n",
        "dataset = SomeDataset(data, args.feature_cols, args.target_col)\n",
        "\n",
        "model = MultilayerPerceptron(len(args.feature_cols), dataset.get_num_targets(), \n",
        "                                     args.hidden_dim, args.num_hidden, args.activation, \n",
        "                                     args.apply_dropout, args.p, args.apply_batchnorm)\n",
        "history = train(dataset, model, epochs = args.num_epochs, batch_size = args.batch_size)"
      ],
      "execution_count": null,
      "outputs": [
        {
          "name": "stderr",
          "output_type": "stream",
          "text": [
            "epoch:   3%|▎         | 1/30 [00:08<04:10,  8.65s/it]"
          ]
        },
        {
          "name": "stdout",
          "output_type": "stream",
          "text": [
            "\n",
            "Epoch 001 train_loss: 1.0193     val_loss 0.6952 train_acc 0.5203 val_acc 0.7507\n"
          ]
        },
        {
          "name": "stderr",
          "output_type": "stream",
          "text": [
            "epoch:   7%|▋         | 2/30 [00:17<04:02,  8.65s/it]"
          ]
        },
        {
          "name": "stdout",
          "output_type": "stream",
          "text": [
            "\n",
            "Epoch 002 train_loss: 0.5896     val_loss 0.5036 train_acc 0.7996 val_acc 0.8217\n"
          ]
        },
        {
          "name": "stderr",
          "output_type": "stream",
          "text": [
            "epoch:  10%|█         | 3/30 [00:26<03:54,  8.69s/it]"
          ]
        },
        {
          "name": "stdout",
          "output_type": "stream",
          "text": [
            "\n",
            "Epoch 003 train_loss: 0.4367     val_loss 0.3837 train_acc 0.8661 val_acc 0.8873\n"
          ]
        },
        {
          "name": "stderr",
          "output_type": "stream",
          "text": [
            "epoch:  13%|█▎        | 4/30 [00:40<04:28, 10.33s/it]"
          ]
        },
        {
          "name": "stdout",
          "output_type": "stream",
          "text": [
            "\n",
            "Epoch 004 train_loss: 0.3320     val_loss 0.2988 train_acc 0.9219 val_acc 0.9267\n"
          ]
        },
        {
          "name": "stderr",
          "output_type": "stream",
          "text": [
            "epoch:  17%|█▋        | 5/30 [00:51<04:21, 10.46s/it]"
          ]
        },
        {
          "name": "stdout",
          "output_type": "stream",
          "text": [
            "\n",
            "Epoch 005 train_loss: 0.2581     val_loss 0.2476 train_acc 0.9461 val_acc 0.9447\n"
          ]
        },
        {
          "name": "stderr",
          "output_type": "stream",
          "text": [
            "epoch:  20%|██        | 6/30 [01:04<04:30, 11.28s/it]"
          ]
        },
        {
          "name": "stdout",
          "output_type": "stream",
          "text": [
            "\n",
            "Epoch 006 train_loss: 0.2194     val_loss 0.2097 train_acc 0.9546 val_acc 0.9530\n"
          ]
        },
        {
          "name": "stderr",
          "output_type": "stream",
          "text": [
            "epoch:  23%|██▎       | 7/30 [01:15<04:22, 11.43s/it]"
          ]
        },
        {
          "name": "stdout",
          "output_type": "stream",
          "text": [
            "\n",
            "Epoch 007 train_loss: 0.1892     val_loss 0.1881 train_acc 0.9586 val_acc 0.9603\n"
          ]
        },
        {
          "name": "stderr",
          "output_type": "stream",
          "text": [
            "epoch:  27%|██▋       | 8/30 [01:26<04:03, 11.07s/it]"
          ]
        },
        {
          "name": "stdout",
          "output_type": "stream",
          "text": [
            "\n",
            "Epoch 008 train_loss: 0.1726     val_loss 0.1717 train_acc 0.9634 val_acc 0.9627\n"
          ]
        },
        {
          "name": "stderr",
          "output_type": "stream",
          "text": [
            "epoch:  30%|███       | 9/30 [01:35<03:41, 10.57s/it]"
          ]
        },
        {
          "name": "stdout",
          "output_type": "stream",
          "text": [
            "\n",
            "Epoch 009 train_loss: 0.1556     val_loss 0.1574 train_acc 0.9676 val_acc 0.9643\n"
          ]
        },
        {
          "name": "stderr",
          "output_type": "stream",
          "text": [
            "epoch:  33%|███▎      | 10/30 [01:44<03:19, 10.00s/it]"
          ]
        },
        {
          "name": "stdout",
          "output_type": "stream",
          "text": [
            "\n",
            "Epoch 010 train_loss: 0.1453     val_loss 0.1495 train_acc 0.9687 val_acc 0.9653\n"
          ]
        },
        {
          "name": "stderr",
          "output_type": "stream",
          "text": [
            "epoch:  37%|███▋      | 11/30 [01:54<03:13, 10.20s/it]"
          ]
        },
        {
          "name": "stdout",
          "output_type": "stream",
          "text": [
            "\n",
            "Epoch 011 train_loss: 0.1376     val_loss 0.1393 train_acc 0.9706 val_acc 0.9677\n"
          ]
        },
        {
          "name": "stderr",
          "output_type": "stream",
          "text": [
            "epoch:  40%|████      | 12/30 [02:04<02:59,  9.99s/it]"
          ]
        },
        {
          "name": "stdout",
          "output_type": "stream",
          "text": [
            "\n",
            "Epoch 012 train_loss: 0.1274     val_loss 0.1347 train_acc 0.9714 val_acc 0.9660\n"
          ]
        },
        {
          "name": "stderr",
          "output_type": "stream",
          "text": [
            "epoch:  43%|████▎     | 13/30 [02:13<02:46,  9.80s/it]"
          ]
        },
        {
          "name": "stdout",
          "output_type": "stream",
          "text": [
            "\n",
            "Epoch 013 train_loss: 0.1238     val_loss 0.1281 train_acc 0.9730 val_acc 0.9677\n"
          ]
        },
        {
          "name": "stderr",
          "output_type": "stream",
          "text": [
            "epoch:  47%|████▋     | 14/30 [02:22<02:33,  9.62s/it]"
          ]
        },
        {
          "name": "stdout",
          "output_type": "stream",
          "text": [
            "\n",
            "Epoch 014 train_loss: 0.1153     val_loss 0.1213 train_acc 0.9737 val_acc 0.9693\n"
          ]
        },
        {
          "name": "stderr",
          "output_type": "stream",
          "text": [
            "epoch:  50%|█████     | 15/30 [02:31<02:21,  9.40s/it]"
          ]
        },
        {
          "name": "stdout",
          "output_type": "stream",
          "text": [
            "\n",
            "Epoch 015 train_loss: 0.1058     val_loss 0.1234 train_acc 0.9770 val_acc 0.9700\n"
          ]
        },
        {
          "name": "stderr",
          "output_type": "stream",
          "text": [
            "epoch:  53%|█████▎    | 16/30 [02:40<02:09,  9.26s/it]"
          ]
        },
        {
          "name": "stdout",
          "output_type": "stream",
          "text": [
            "\n",
            "Epoch 016 train_loss: 0.1034     val_loss 0.1136 train_acc 0.9761 val_acc 0.9723\n"
          ]
        },
        {
          "name": "stderr",
          "output_type": "stream",
          "text": [
            "epoch:  57%|█████▋    | 17/30 [02:50<02:01,  9.34s/it]"
          ]
        },
        {
          "name": "stdout",
          "output_type": "stream",
          "text": [
            "\n",
            "Epoch 017 train_loss: 0.1021     val_loss 0.1101 train_acc 0.9786 val_acc 0.9723\n"
          ]
        },
        {
          "name": "stderr",
          "output_type": "stream",
          "text": [
            "epoch:  60%|██████    | 18/30 [02:59<01:51,  9.32s/it]"
          ]
        },
        {
          "name": "stdout",
          "output_type": "stream",
          "text": [
            "\n",
            "Epoch 018 train_loss: 0.0967     val_loss 0.1095 train_acc 0.9771 val_acc 0.9710\n"
          ]
        },
        {
          "name": "stderr",
          "output_type": "stream",
          "text": [
            "epoch:  63%|██████▎   | 19/30 [03:08<01:41,  9.26s/it]"
          ]
        },
        {
          "name": "stdout",
          "output_type": "stream",
          "text": [
            "\n",
            "Epoch 019 train_loss: 0.0942     val_loss 0.1061 train_acc 0.9794 val_acc 0.9747\n"
          ]
        },
        {
          "name": "stderr",
          "output_type": "stream",
          "text": [
            "epoch:  67%|██████▋   | 20/30 [03:18<01:33,  9.31s/it]"
          ]
        },
        {
          "name": "stdout",
          "output_type": "stream",
          "text": [
            "\n",
            "Epoch 020 train_loss: 0.0897     val_loss 0.1048 train_acc 0.9810 val_acc 0.9747\n"
          ]
        },
        {
          "name": "stderr",
          "output_type": "stream",
          "text": [
            "epoch:  70%|███████   | 21/30 [03:27<01:23,  9.33s/it]"
          ]
        },
        {
          "name": "stdout",
          "output_type": "stream",
          "text": [
            "\n",
            "Epoch 021 train_loss: 0.0908     val_loss 0.1061 train_acc 0.9791 val_acc 0.9740\n"
          ]
        },
        {
          "name": "stderr",
          "output_type": "stream",
          "text": [
            "epoch:  73%|███████▎  | 22/30 [03:36<01:14,  9.34s/it]"
          ]
        },
        {
          "name": "stdout",
          "output_type": "stream",
          "text": [
            "\n",
            "Epoch 022 train_loss: 0.0844     val_loss 0.1094 train_acc 0.9814 val_acc 0.9727\n"
          ]
        },
        {
          "name": "stderr",
          "output_type": "stream",
          "text": [
            "epoch:  77%|███████▋  | 23/30 [03:47<01:07,  9.70s/it]"
          ]
        },
        {
          "name": "stdout",
          "output_type": "stream",
          "text": [
            "\n",
            "Epoch 023 train_loss: 0.0849     val_loss 0.0994 train_acc 0.9807 val_acc 0.9767\n"
          ]
        },
        {
          "name": "stderr",
          "output_type": "stream",
          "text": [
            "epoch:  80%|████████  | 24/30 [03:56<00:56,  9.44s/it]"
          ]
        },
        {
          "name": "stdout",
          "output_type": "stream",
          "text": [
            "\n",
            "Epoch 024 train_loss: 0.0835     val_loss 0.1021 train_acc 0.9816 val_acc 0.9773\n"
          ]
        },
        {
          "name": "stderr",
          "output_type": "stream",
          "text": [
            "epoch:  83%|████████▎ | 25/30 [04:05<00:46,  9.24s/it]"
          ]
        },
        {
          "name": "stdout",
          "output_type": "stream",
          "text": [
            "\n",
            "Epoch 025 train_loss: 0.0778     val_loss 0.0997 train_acc 0.9823 val_acc 0.9753\n"
          ]
        },
        {
          "name": "stderr",
          "output_type": "stream",
          "text": [
            "epoch:  87%|████████▋ | 26/30 [04:14<00:36,  9.21s/it]"
          ]
        },
        {
          "name": "stdout",
          "output_type": "stream",
          "text": [
            "\n",
            "Epoch 026 train_loss: 0.0752     val_loss 0.0982 train_acc 0.9823 val_acc 0.9767\n"
          ]
        },
        {
          "name": "stderr",
          "output_type": "stream",
          "text": [
            "epoch:  90%|█████████ | 27/30 [04:25<00:29,  9.89s/it]"
          ]
        },
        {
          "name": "stdout",
          "output_type": "stream",
          "text": [
            "\n",
            "Epoch 027 train_loss: 0.0761     val_loss 0.0941 train_acc 0.9820 val_acc 0.9783\n"
          ]
        },
        {
          "name": "stderr",
          "output_type": "stream",
          "text": [
            "epoch:  93%|█████████▎| 28/30 [04:35<00:19,  9.74s/it]"
          ]
        },
        {
          "name": "stdout",
          "output_type": "stream",
          "text": [
            "\n",
            "Epoch 028 train_loss: 0.0717     val_loss 0.0936 train_acc 0.9831 val_acc 0.9780\n"
          ]
        },
        {
          "name": "stderr",
          "output_type": "stream",
          "text": [
            "epoch:  97%|█████████▋| 29/30 [04:45<00:09,  9.88s/it]"
          ]
        },
        {
          "name": "stdout",
          "output_type": "stream",
          "text": [
            "\n",
            "Epoch 029 train_loss: 0.0761     val_loss 0.1017 train_acc 0.9826 val_acc 0.9770\n"
          ]
        },
        {
          "name": "stderr",
          "output_type": "stream",
          "text": [
            "epoch: 100%|██████████| 30/30 [04:55<00:00,  9.85s/it]"
          ]
        },
        {
          "name": "stdout",
          "output_type": "stream",
          "text": [
            "\n",
            "Epoch 030 train_loss: 0.0732     val_loss 0.1015 train_acc 0.9823 val_acc 0.9770\n"
          ]
        },
        {
          "name": "stderr",
          "output_type": "stream",
          "text": [
            "\n"
          ]
        }
      ]
    },
    {
      "cell_type": "markdown",
      "metadata": {
        "id": "dfrPh7ULhueB"
      },
      "source": [
        "## Визуализация обучения "
      ]
    },
    {
      "cell_type": "code",
      "metadata": {
        "id": "HGD6VYPXhueB",
        "outputId": "7eeb2781-1495-450b-96bc-c7d7c24a6df5"
      },
      "source": [
        "loss, acc, val_loss, val_acc = zip(*history)\n",
        "create_plot_loss_or_acc(loss, val_loss, \"loss\")\n",
        "create_plot_loss_or_acc(acc, val_acc, \"acc\")"
      ],
      "execution_count": null,
      "outputs": [
        {
          "data": {
            "image/png": "[encoded data removed]",
            "text/plain": [
              "<Figure size 1080x648 with 1 Axes>"
            ]
          },
          "metadata": {
            "needs_background": "light"
          },
          "output_type": "display_data"
        },
        {
          "data": {
            "image/png": "[encoded data removed]",
            "text/plain": [
              "<Figure size 1080x648 with 1 Axes>"
            ]
          },
          "metadata": {
            "needs_background": "light"
          },
          "output_type": "display_data"
        }
      ]
    },
    {
      "cell_type": "markdown",
      "metadata": {
        "id": "qw_AWBuyhueB"
      },
      "source": [
        "## Демонстрация работы "
      ]
    },
    {
      "cell_type": "code",
      "metadata": {
        "id": "PTzxOoJ-hueC",
        "outputId": "b1ff0d0e-85a3-4cee-f3e0-7a5e929f63f9"
      },
      "source": [
        "dataset.set_split('test')\n",
        "test_loader = DataLoader(dataset, batch_size=args.batch_size, shuffle=False)\n",
        "labels1 = []\n",
        "for features, labels in test_loader:\n",
        "    labels1 = np.concatenate((labels1, np.array(labels)), axis=0)\n",
        "labels1 = labels1.astype('int') \n",
        "print(len(labels1))\n",
        "print(labels1)\n",
        "    \n",
        "result = predict(model, test_loader)\n",
        "result_id = torch.argmax(torch.Tensor(result), 1)\n",
        "print(len(result_id))\n",
        "print(np.array(result_id))"
      ],
      "execution_count": null,
      "outputs": [
        {
          "name": "stdout",
          "output_type": "stream",
          "text": [
            "90000\n",
            "[0 1 0 ... 0 2 0]\n",
            "90000\n",
            "[0 1 0 ... 0 2 0]\n"
          ]
        }
      ]
    },
    {
      "cell_type": "code",
      "metadata": {
        "id": "_kTnos3jhueC",
        "outputId": "c4b4f6df-60a2-434f-a2eb-e3ff6c98ffb7"
      },
      "source": [
        "print(np.array(result_id) - np.array(labels1))\n",
        "print(\"Количество неверно классифицированных объектов: \", \n",
        "      np.count_nonzero(np.array(result_id) - np.array(labels1)))\n",
        "print(\"Точность модели на контрольной выборке: \", \n",
        "      (len(np.array(labels1))-np.count_nonzero(np.array(result_id) - np.array(labels1)))/len(np.array(labels1)))"
      ],
      "execution_count": null,
      "outputs": [
        {
          "name": "stdout",
          "output_type": "stream",
          "text": [
            "[0 0 0 ... 0 0 0]\n",
            "Количество неверно классифицированных объектов:  2048\n",
            "Точность модели на контрольной выборке:  0.9772444444444445\n"
          ]
        }
      ]
    },
    {
      "cell_type": "code",
      "metadata": {
        "id": "wF2Mb-AGhueC"
      },
      "source": [
        ""
      ],
      "execution_count": null,
      "outputs": []
    }
  ]
}